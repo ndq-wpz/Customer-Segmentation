{
 "cells": [
  {
   "cell_type": "code",
   "execution_count": 3,
   "id": "bcb9ee76-bd16-4521-9bb7-cfe015b1cfe8",
   "metadata": {},
   "outputs": [],
   "source": [
    "import pandas as pd\n",
    "df = pd.read_csv(\"c:/Users/Quang/Customer-Segmentation/data/raw/Mall_Customers.csv\")"
   ]
  },
  {
   "cell_type": "code",
   "execution_count": 5,
   "id": "4cabe9b1-bd52-4ab2-87c3-d3dbe0fbc3c3",
   "metadata": {},
   "outputs": [
    {
     "data": {
      "text/html": [
       "<div>\n",
       "<style scoped>\n",
       "    .dataframe tbody tr th:only-of-type {\n",
       "        vertical-align: middle;\n",
       "    }\n",
       "\n",
       "    .dataframe tbody tr th {\n",
       "        vertical-align: top;\n",
       "    }\n",
       "\n",
       "    .dataframe thead th {\n",
       "        text-align: right;\n",
       "    }\n",
       "</style>\n",
       "<table border=\"1\" class=\"dataframe\">\n",
       "  <thead>\n",
       "    <tr style=\"text-align: right;\">\n",
       "      <th></th>\n",
       "      <th>CustomerID</th>\n",
       "      <th>Gender</th>\n",
       "      <th>Age</th>\n",
       "      <th>Annual Income (k$)</th>\n",
       "      <th>Spending Score (1-100)</th>\n",
       "    </tr>\n",
       "  </thead>\n",
       "  <tbody>\n",
       "    <tr>\n",
       "      <th>0</th>\n",
       "      <td>1</td>\n",
       "      <td>Male</td>\n",
       "      <td>19</td>\n",
       "      <td>15</td>\n",
       "      <td>39</td>\n",
       "    </tr>\n",
       "    <tr>\n",
       "      <th>1</th>\n",
       "      <td>2</td>\n",
       "      <td>Male</td>\n",
       "      <td>21</td>\n",
       "      <td>15</td>\n",
       "      <td>81</td>\n",
       "    </tr>\n",
       "    <tr>\n",
       "      <th>2</th>\n",
       "      <td>3</td>\n",
       "      <td>Female</td>\n",
       "      <td>20</td>\n",
       "      <td>16</td>\n",
       "      <td>6</td>\n",
       "    </tr>\n",
       "    <tr>\n",
       "      <th>3</th>\n",
       "      <td>4</td>\n",
       "      <td>Female</td>\n",
       "      <td>23</td>\n",
       "      <td>16</td>\n",
       "      <td>77</td>\n",
       "    </tr>\n",
       "    <tr>\n",
       "      <th>4</th>\n",
       "      <td>5</td>\n",
       "      <td>Female</td>\n",
       "      <td>31</td>\n",
       "      <td>17</td>\n",
       "      <td>40</td>\n",
       "    </tr>\n",
       "  </tbody>\n",
       "</table>\n",
       "</div>"
      ],
      "text/plain": [
       "   CustomerID  Gender  Age  Annual Income (k$)  Spending Score (1-100)\n",
       "0           1    Male   19                  15                      39\n",
       "1           2    Male   21                  15                      81\n",
       "2           3  Female   20                  16                       6\n",
       "3           4  Female   23                  16                      77\n",
       "4           5  Female   31                  17                      40"
      ]
     },
     "execution_count": 5,
     "metadata": {},
     "output_type": "execute_result"
    }
   ],
   "source": [
    "df.head()"
   ]
  },
  {
   "cell_type": "code",
   "execution_count": 9,
   "id": "12fb5422-1726-4b2f-9529-9da8a0086932",
   "metadata": {},
   "outputs": [
    {
     "data": {
      "text/plain": [
       "200"
      ]
     },
     "execution_count": 9,
     "metadata": {},
     "output_type": "execute_result"
    }
   ],
   "source": [
    "len(df)"
   ]
  },
  {
   "cell_type": "code",
   "execution_count": 21,
   "id": "a6c53061-1cd4-463d-a582-1c3072238480",
   "metadata": {},
   "outputs": [
    {
     "name": "stdout",
     "output_type": "stream",
     "text": [
      "                        Missing  %Missing\n",
      "CustomerID                    0       0.0\n",
      "Gender                        0       0.0\n",
      "Age                           0       0.0\n",
      "Annual Income (k$)            0       0.0\n",
      "Spending Score (1-100)        0       0.0\n"
     ]
    }
   ],
   "source": [
    "missing_report = df.isnull().sum().to_frame(name = 'Missing')\n",
    "missing_report['%Missing'] = (missing_report['Missing']/len(df))*100\n",
    "print(missing_report)"
   ]
  },
  {
   "cell_type": "code",
   "execution_count": 53,
   "id": "ee8b1642-2639-47c5-80b2-9a9bb4e813f3",
   "metadata": {},
   "outputs": [
    {
     "name": "stdout",
     "output_type": "stream",
     "text": [
      "Outliers trong Annual Income:\n",
      "     CustomerID Gender  Age  Annual Income (k$)  Spending Score (1-100)\n",
      "198         199   Male   32                 137                      18\n",
      "199         200   Male   30                 137                      83\n",
      "\n",
      "Outliers trong Spending Score:\n",
      "Empty DataFrame\n",
      "Columns: [CustomerID, Gender, Age, Annual Income (k$), Spending Score (1-100)]\n",
      "Index: []\n"
     ]
    }
   ],
   "source": [
    "Q1_AI = df['Annual Income (k$)'].quantile(0.25)\n",
    "Q3_AI = df['Annual Income (k$)'].quantile(0.75)\n",
    "IQR_AI = Q3_AI - Q1_AI\n",
    "\n",
    "Q1_SS = df['Spending Score (1-100)'].quantile(0.25)\n",
    "Q3_SS = df['Spending Score (1-100)'].quantile(0.75)\n",
    "IQR_SS = Q3_SS - Q1_SS\n",
    "\n",
    "lower_bound_AI = Q1_AI - 1.5 * IQR_AI \n",
    "upper_bound_AI = Q3_AI + 1.5 * IQR_AI\n",
    "\n",
    "lower_bound_SS = Q1_SS - 1.5 * IQR_SS\n",
    "upper_bound_SS = Q3_SS + 1.5 * IQR_SS\n",
    "\n",
    "outliers_AI = (df['Annual Income (k$)'] < lower_bound_AI) | (df['Annual Income (k$)'] > upper_bound_AI)\n",
    "outliers_SS = (df['Spending Score (1-100)'] < lower_bound_SS) | (df['Spending Score (1-100)'] > upper_bound_SS)\n",
    "\n",
    "df_outliers_AI = df[outliers_AI]\n",
    "df_outliers_SS = df[outliers_SS]\n",
    "\n",
    "print(\"Outliers trong Annual Income:\")\n",
    "print(df_outliers_AI)\n",
    "\n",
    "print(\"\\nOutliers trong Spending Score:\")\n",
    "print(df_outliers_SS)"
   ]
  },
  {
   "cell_type": "code",
   "execution_count": null,
   "id": "bb2f9ab6-f283-4a2a-9d37-7535baf1c581",
   "metadata": {},
   "outputs": [],
   "source": []
  }
 ],
 "metadata": {
  "kernelspec": {
   "display_name": "Python [conda env:base] *",
   "language": "python",
   "name": "conda-base-py"
  },
  "language_info": {
   "codemirror_mode": {
    "name": "ipython",
    "version": 3
   },
   "file_extension": ".py",
   "mimetype": "text/x-python",
   "name": "python",
   "nbconvert_exporter": "python",
   "pygments_lexer": "ipython3",
   "version": "3.12.7"
  }
 },
 "nbformat": 4,
 "nbformat_minor": 5
}
