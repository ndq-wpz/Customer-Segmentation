{
 "cells": [
  {
   "cell_type": "code",
   "execution_count": 119,
   "id": "1d2e983b-90a5-4ac5-b9a9-db3a9e443d67",
   "metadata": {},
   "outputs": [],
   "source": [
    "import pandas as pd\n",
    "df = pd.read_csv(\"c:/Users/Quang/Customer-Segmentation/data/raw/Mall_Customers.csv\")"
   ]
  },
  {
   "cell_type": "markdown",
   "id": "d8addd8f-cd0a-4ddb-9852-a3aaabf42838",
   "metadata": {},
   "source": [
    "## Xử lý Missing Values"
   ]
  },
  {
   "cell_type": "code",
   "execution_count": 121,
   "id": "97fa1a64-8818-44d8-92a3-888b9464b1dd",
   "metadata": {},
   "outputs": [
    {
     "name": "stdout",
     "output_type": "stream",
     "text": [
      "                        Missing Values  Missing %\n",
      "CustomerID                           0        0.0\n",
      "Gender                               0        0.0\n",
      "Age                                  0        0.0\n",
      "Annual Income (k$)                   0        0.0\n",
      "Spending Score (1-100)               0        0.0\n"
     ]
    }
   ],
   "source": [
    "missing_report = df.isnull().sum().to_frame(name='Missing Values')\n",
    "missing_report['Missing %'] = (missing_report['Missing Values'] / len(df)) * 100\n",
    "print(missing_report)"
   ]
  },
  {
   "cell_type": "markdown",
   "id": "b88248b7-2d35-49fd-a398-ff0b56d9276c",
   "metadata": {},
   "source": [
    "##### --> Không có Missing Vales"
   ]
  },
  {
   "cell_type": "markdown",
   "id": "d2750bcb-8065-4282-b6dd-3c9bf08faf92",
   "metadata": {},
   "source": [
    "## Xử lý Outliers"
   ]
  },
  {
   "cell_type": "code",
   "execution_count": 123,
   "id": "b684605d-ef69-4ea3-b99d-52a1af1b7c96",
   "metadata": {},
   "outputs": [
    {
     "name": "stdout",
     "output_type": "stream",
     "text": [
      "Số outliers trong Annual Income: 2\n",
      "Số outliers trong Spending Score: 0\n"
     ]
    }
   ],
   "source": [
    "def detect_outliers(df, column):\n",
    "    Q1 = df[column].quantile(0.25)\n",
    "    Q3 = df[column].quantile(0.75)\n",
    "    IQR = Q3 - Q1\n",
    "    lower_bound = Q1 - 1.5 * IQR\n",
    "    upper_bound = Q3 + 1.5 * IQR\n",
    "    outliers = df[(df[column] < lower_bound) | (df[column] > upper_bound)]\n",
    "    return outliers\n",
    "    \n",
    "outliers_income = detect_outliers(df, 'Annual Income (k$)')\n",
    "outliers_spending = detect_outliers(df, 'Spending Score (1-100)')\n",
    "\n",
    "print(f\"Số outliers trong Annual Income: {len(outliers_income)}\")\n",
    "print(f\"Số outliers trong Spending Score: {len(outliers_spending)}\")"
   ]
  },
  {
   "cell_type": "markdown",
   "id": "b926589e-504c-44b1-a1b4-ceeb71bb13e8",
   "metadata": {},
   "source": [
    "##### Phát hiện 2 Outliers"
   ]
  },
  {
   "cell_type": "code",
   "execution_count": 125,
   "id": "852bc117-3e57-465c-b46f-10e9472dd128",
   "metadata": {},
   "outputs": [],
   "source": [
    "Q1 = df['Annual Income (k$)'].quantile(0.25)\n",
    "Q3 = df['Annual Income (k$)'].quantile(0.75)\n",
    "IQR = Q3 - Q1\n",
    "\n",
    "lower_bound = Q1 - 1.5 * IQR\n",
    "upper_bound = Q3 + 1.5 * IQR\n",
    "\n",
    "df['Annual Income (k$)'] = df['Annual Income (k$)'].clip(lower=lower_bound, upper=upper_bound)"
   ]
  },
  {
   "cell_type": "code",
   "execution_count": 35,
   "id": "5011e490-7d6e-4a52-b6de-4c24b00c2e22",
   "metadata": {},
   "outputs": [
    {
     "name": "stdout",
     "output_type": "stream",
     "text": [
      "Số outliers trong Annual Income: 0\n",
      "Số outliers trong Spending Score: 0\n"
     ]
    }
   ],
   "source": [
    "print(f\"Số outliers trong Annual Income: {len(outliers_income)}\")\n",
    "print(f\"Số outliers trong Spending Score: {len(outliers_spending)}\")"
   ]
  },
  {
   "cell_type": "markdown",
   "id": "097560bf-090b-4b85-bea6-31eb3d78ade4",
   "metadata": {},
   "source": [
    "##### Xử lý và kiểm tra lại outliers"
   ]
  },
  {
   "cell_type": "markdown",
   "id": "11e10bff-b56d-43fd-ae3a-6a7816ae8fb8",
   "metadata": {},
   "source": [
    "## Feature Engineering"
   ]
  },
  {
   "cell_type": "markdown",
   "id": "1ca4b2bc-a255-45df-8f7d-2a974c19e52e",
   "metadata": {},
   "source": [
    "##### Phân nhóm tuổi"
   ]
  },
  {
   "cell_type": "code",
   "execution_count": 127,
   "id": "a39b2ae0-33d0-411c-931e-cc2c40c5c9b1",
   "metadata": {},
   "outputs": [],
   "source": [
    "bins = [0, 18, 25, 35, 50, 100]\n",
    "labels = ['Teen', 'Young Adult', 'Adult', 'Middle Aged', 'Senior']\n",
    "df['Age_Group'] = pd.cut(df['Age'], bins=bins, labels=labels)"
   ]
  },
  {
   "cell_type": "code",
   "execution_count": 63,
   "id": "b083aec5-e69f-407e-baeb-02c08ecb0562",
   "metadata": {},
   "outputs": [
    {
     "data": {
      "text/html": [
       "<div>\n",
       "<style scoped>\n",
       "    .dataframe tbody tr th:only-of-type {\n",
       "        vertical-align: middle;\n",
       "    }\n",
       "\n",
       "    .dataframe tbody tr th {\n",
       "        vertical-align: top;\n",
       "    }\n",
       "\n",
       "    .dataframe thead th {\n",
       "        text-align: right;\n",
       "    }\n",
       "</style>\n",
       "<table border=\"1\" class=\"dataframe\">\n",
       "  <thead>\n",
       "    <tr style=\"text-align: right;\">\n",
       "      <th></th>\n",
       "      <th>CustomerID</th>\n",
       "      <th>Gender</th>\n",
       "      <th>Age</th>\n",
       "      <th>Annual Income (k$)</th>\n",
       "      <th>Spending Score (1-100)</th>\n",
       "      <th>Age_Group</th>\n",
       "    </tr>\n",
       "  </thead>\n",
       "  <tbody>\n",
       "    <tr>\n",
       "      <th>0</th>\n",
       "      <td>1</td>\n",
       "      <td>Male</td>\n",
       "      <td>19</td>\n",
       "      <td>15</td>\n",
       "      <td>39</td>\n",
       "      <td>Young Adult</td>\n",
       "    </tr>\n",
       "    <tr>\n",
       "      <th>1</th>\n",
       "      <td>2</td>\n",
       "      <td>Male</td>\n",
       "      <td>21</td>\n",
       "      <td>15</td>\n",
       "      <td>81</td>\n",
       "      <td>Young Adult</td>\n",
       "    </tr>\n",
       "    <tr>\n",
       "      <th>2</th>\n",
       "      <td>3</td>\n",
       "      <td>Female</td>\n",
       "      <td>20</td>\n",
       "      <td>16</td>\n",
       "      <td>6</td>\n",
       "      <td>Young Adult</td>\n",
       "    </tr>\n",
       "    <tr>\n",
       "      <th>3</th>\n",
       "      <td>4</td>\n",
       "      <td>Female</td>\n",
       "      <td>23</td>\n",
       "      <td>16</td>\n",
       "      <td>77</td>\n",
       "      <td>Young Adult</td>\n",
       "    </tr>\n",
       "    <tr>\n",
       "      <th>4</th>\n",
       "      <td>5</td>\n",
       "      <td>Female</td>\n",
       "      <td>31</td>\n",
       "      <td>17</td>\n",
       "      <td>40</td>\n",
       "      <td>Adult</td>\n",
       "    </tr>\n",
       "    <tr>\n",
       "      <th>5</th>\n",
       "      <td>6</td>\n",
       "      <td>Female</td>\n",
       "      <td>22</td>\n",
       "      <td>17</td>\n",
       "      <td>76</td>\n",
       "      <td>Young Adult</td>\n",
       "    </tr>\n",
       "    <tr>\n",
       "      <th>6</th>\n",
       "      <td>7</td>\n",
       "      <td>Female</td>\n",
       "      <td>35</td>\n",
       "      <td>18</td>\n",
       "      <td>6</td>\n",
       "      <td>Adult</td>\n",
       "    </tr>\n",
       "    <tr>\n",
       "      <th>7</th>\n",
       "      <td>8</td>\n",
       "      <td>Female</td>\n",
       "      <td>23</td>\n",
       "      <td>18</td>\n",
       "      <td>94</td>\n",
       "      <td>Young Adult</td>\n",
       "    </tr>\n",
       "    <tr>\n",
       "      <th>8</th>\n",
       "      <td>9</td>\n",
       "      <td>Male</td>\n",
       "      <td>64</td>\n",
       "      <td>19</td>\n",
       "      <td>3</td>\n",
       "      <td>Senior</td>\n",
       "    </tr>\n",
       "    <tr>\n",
       "      <th>9</th>\n",
       "      <td>10</td>\n",
       "      <td>Female</td>\n",
       "      <td>30</td>\n",
       "      <td>19</td>\n",
       "      <td>72</td>\n",
       "      <td>Adult</td>\n",
       "    </tr>\n",
       "  </tbody>\n",
       "</table>\n",
       "</div>"
      ],
      "text/plain": [
       "   CustomerID  Gender  Age  Annual Income (k$)  Spending Score (1-100)  \\\n",
       "0           1    Male   19                  15                      39   \n",
       "1           2    Male   21                  15                      81   \n",
       "2           3  Female   20                  16                       6   \n",
       "3           4  Female   23                  16                      77   \n",
       "4           5  Female   31                  17                      40   \n",
       "5           6  Female   22                  17                      76   \n",
       "6           7  Female   35                  18                       6   \n",
       "7           8  Female   23                  18                      94   \n",
       "8           9    Male   64                  19                       3   \n",
       "9          10  Female   30                  19                      72   \n",
       "\n",
       "     Age_Group  \n",
       "0  Young Adult  \n",
       "1  Young Adult  \n",
       "2  Young Adult  \n",
       "3  Young Adult  \n",
       "4        Adult  \n",
       "5  Young Adult  \n",
       "6        Adult  \n",
       "7  Young Adult  \n",
       "8       Senior  \n",
       "9        Adult  "
      ]
     },
     "execution_count": 63,
     "metadata": {},
     "output_type": "execute_result"
    }
   ],
   "source": [
    "df.head(10)"
   ]
  },
  {
   "cell_type": "markdown",
   "id": "3cb4733d-19bd-4925-bdf1-1b11b58839f6",
   "metadata": {},
   "source": [
    "##### Encoding biến phân loại"
   ]
  },
  {
   "cell_type": "code",
   "execution_count": 139,
   "id": "fd91292b-c1a6-44d9-a074-7092e45824ae",
   "metadata": {},
   "outputs": [],
   "source": [
    "df['Gender_Encoded'] = df['Gender'].map({'Male': 0, 'Female': 1})"
   ]
  },
  {
   "cell_type": "code",
   "execution_count": 131,
   "id": "e2acddd1-0879-4841-9b34-ffb076babfd0",
   "metadata": {},
   "outputs": [
    {
     "data": {
      "text/html": [
       "<div>\n",
       "<style scoped>\n",
       "    .dataframe tbody tr th:only-of-type {\n",
       "        vertical-align: middle;\n",
       "    }\n",
       "\n",
       "    .dataframe tbody tr th {\n",
       "        vertical-align: top;\n",
       "    }\n",
       "\n",
       "    .dataframe thead th {\n",
       "        text-align: right;\n",
       "    }\n",
       "</style>\n",
       "<table border=\"1\" class=\"dataframe\">\n",
       "  <thead>\n",
       "    <tr style=\"text-align: right;\">\n",
       "      <th></th>\n",
       "      <th>CustomerID</th>\n",
       "      <th>Gender</th>\n",
       "      <th>Age</th>\n",
       "      <th>Annual Income (k$)</th>\n",
       "      <th>Spending Score (1-100)</th>\n",
       "      <th>Age_Group</th>\n",
       "      <th>Gender_Encoded</th>\n",
       "    </tr>\n",
       "  </thead>\n",
       "  <tbody>\n",
       "    <tr>\n",
       "      <th>0</th>\n",
       "      <td>1</td>\n",
       "      <td>Male</td>\n",
       "      <td>19</td>\n",
       "      <td>15.0</td>\n",
       "      <td>39</td>\n",
       "      <td>Young Adult</td>\n",
       "      <td>0</td>\n",
       "    </tr>\n",
       "    <tr>\n",
       "      <th>1</th>\n",
       "      <td>2</td>\n",
       "      <td>Male</td>\n",
       "      <td>21</td>\n",
       "      <td>15.0</td>\n",
       "      <td>81</td>\n",
       "      <td>Young Adult</td>\n",
       "      <td>0</td>\n",
       "    </tr>\n",
       "    <tr>\n",
       "      <th>2</th>\n",
       "      <td>3</td>\n",
       "      <td>Female</td>\n",
       "      <td>20</td>\n",
       "      <td>16.0</td>\n",
       "      <td>6</td>\n",
       "      <td>Young Adult</td>\n",
       "      <td>1</td>\n",
       "    </tr>\n",
       "    <tr>\n",
       "      <th>3</th>\n",
       "      <td>4</td>\n",
       "      <td>Female</td>\n",
       "      <td>23</td>\n",
       "      <td>16.0</td>\n",
       "      <td>77</td>\n",
       "      <td>Young Adult</td>\n",
       "      <td>1</td>\n",
       "    </tr>\n",
       "    <tr>\n",
       "      <th>4</th>\n",
       "      <td>5</td>\n",
       "      <td>Female</td>\n",
       "      <td>31</td>\n",
       "      <td>17.0</td>\n",
       "      <td>40</td>\n",
       "      <td>Adult</td>\n",
       "      <td>1</td>\n",
       "    </tr>\n",
       "  </tbody>\n",
       "</table>\n",
       "</div>"
      ],
      "text/plain": [
       "   CustomerID  Gender  Age  Annual Income (k$)  Spending Score (1-100)  \\\n",
       "0           1    Male   19                15.0                      39   \n",
       "1           2    Male   21                15.0                      81   \n",
       "2           3  Female   20                16.0                       6   \n",
       "3           4  Female   23                16.0                      77   \n",
       "4           5  Female   31                17.0                      40   \n",
       "\n",
       "     Age_Group  Gender_Encoded  \n",
       "0  Young Adult               0  \n",
       "1  Young Adult               0  \n",
       "2  Young Adult               1  \n",
       "3  Young Adult               1  \n",
       "4        Adult               1  "
      ]
     },
     "execution_count": 131,
     "metadata": {},
     "output_type": "execute_result"
    }
   ],
   "source": [
    "df.head()"
   ]
  },
  {
   "cell_type": "markdown",
   "id": "9ff17975-68e1-4542-b59a-480181ce34e9",
   "metadata": {},
   "source": [
    "##### Tỷ lệ chi tiêu/thu nhập"
   ]
  },
  {
   "cell_type": "code",
   "execution_count": 141,
   "id": "6e6ea907-5123-438c-a527-cceff1f2b344",
   "metadata": {},
   "outputs": [],
   "source": [
    "df['Spending_Income_Ratio'] = df['Spending Score (1-100)'] / df['Annual Income (k$)']"
   ]
  },
  {
   "cell_type": "code",
   "execution_count": 143,
   "id": "ababf2bc-dcc7-43be-934c-6e5993a457db",
   "metadata": {},
   "outputs": [
    {
     "data": {
      "text/html": [
       "<div>\n",
       "<style scoped>\n",
       "    .dataframe tbody tr th:only-of-type {\n",
       "        vertical-align: middle;\n",
       "    }\n",
       "\n",
       "    .dataframe tbody tr th {\n",
       "        vertical-align: top;\n",
       "    }\n",
       "\n",
       "    .dataframe thead th {\n",
       "        text-align: right;\n",
       "    }\n",
       "</style>\n",
       "<table border=\"1\" class=\"dataframe\">\n",
       "  <thead>\n",
       "    <tr style=\"text-align: right;\">\n",
       "      <th></th>\n",
       "      <th>CustomerID</th>\n",
       "      <th>Gender</th>\n",
       "      <th>Age</th>\n",
       "      <th>Annual Income (k$)</th>\n",
       "      <th>Spending Score (1-100)</th>\n",
       "      <th>Age_Group</th>\n",
       "      <th>Gender_Encoded</th>\n",
       "      <th>Spending_Income_Ratio</th>\n",
       "    </tr>\n",
       "  </thead>\n",
       "  <tbody>\n",
       "    <tr>\n",
       "      <th>0</th>\n",
       "      <td>1</td>\n",
       "      <td>Male</td>\n",
       "      <td>19</td>\n",
       "      <td>15.0</td>\n",
       "      <td>39</td>\n",
       "      <td>Young Adult</td>\n",
       "      <td>0</td>\n",
       "      <td>2.600000</td>\n",
       "    </tr>\n",
       "    <tr>\n",
       "      <th>1</th>\n",
       "      <td>2</td>\n",
       "      <td>Male</td>\n",
       "      <td>21</td>\n",
       "      <td>15.0</td>\n",
       "      <td>81</td>\n",
       "      <td>Young Adult</td>\n",
       "      <td>0</td>\n",
       "      <td>5.400000</td>\n",
       "    </tr>\n",
       "    <tr>\n",
       "      <th>2</th>\n",
       "      <td>3</td>\n",
       "      <td>Female</td>\n",
       "      <td>20</td>\n",
       "      <td>16.0</td>\n",
       "      <td>6</td>\n",
       "      <td>Young Adult</td>\n",
       "      <td>1</td>\n",
       "      <td>0.375000</td>\n",
       "    </tr>\n",
       "    <tr>\n",
       "      <th>3</th>\n",
       "      <td>4</td>\n",
       "      <td>Female</td>\n",
       "      <td>23</td>\n",
       "      <td>16.0</td>\n",
       "      <td>77</td>\n",
       "      <td>Young Adult</td>\n",
       "      <td>1</td>\n",
       "      <td>4.812500</td>\n",
       "    </tr>\n",
       "    <tr>\n",
       "      <th>4</th>\n",
       "      <td>5</td>\n",
       "      <td>Female</td>\n",
       "      <td>31</td>\n",
       "      <td>17.0</td>\n",
       "      <td>40</td>\n",
       "      <td>Adult</td>\n",
       "      <td>1</td>\n",
       "      <td>2.352941</td>\n",
       "    </tr>\n",
       "  </tbody>\n",
       "</table>\n",
       "</div>"
      ],
      "text/plain": [
       "   CustomerID  Gender  Age  Annual Income (k$)  Spending Score (1-100)  \\\n",
       "0           1    Male   19                15.0                      39   \n",
       "1           2    Male   21                15.0                      81   \n",
       "2           3  Female   20                16.0                       6   \n",
       "3           4  Female   23                16.0                      77   \n",
       "4           5  Female   31                17.0                      40   \n",
       "\n",
       "     Age_Group  Gender_Encoded  Spending_Income_Ratio  \n",
       "0  Young Adult               0               2.600000  \n",
       "1  Young Adult               0               5.400000  \n",
       "2  Young Adult               1               0.375000  \n",
       "3  Young Adult               1               4.812500  \n",
       "4        Adult               1               2.352941  "
      ]
     },
     "execution_count": 143,
     "metadata": {},
     "output_type": "execute_result"
    }
   ],
   "source": [
    "df.head()"
   ]
  },
  {
   "cell_type": "markdown",
   "id": "8a978ed8-419e-40f0-9025-760484f30f16",
   "metadata": {},
   "source": [
    "### ==> Lưu cleaned_data.csv tại bước này"
   ]
  },
  {
   "cell_type": "code",
   "execution_count": 145,
   "id": "654c45f5-c73c-4b3f-a033-97b0dbb2d62d",
   "metadata": {},
   "outputs": [],
   "source": [
    "df.to_csv('C:/Users/Quang/Customer-Segmentation/data/processed/cleaned_data.csv', index=False)"
   ]
  },
  {
   "cell_type": "markdown",
   "id": "58e087f9-91be-44ed-81cf-fa73c9d3d91f",
   "metadata": {},
   "source": [
    "## Chuẩn hóa Dữ liệu"
   ]
  },
  {
   "cell_type": "markdown",
   "id": "002f8539-dff8-44dd-bbb0-2e0b5dd640d2",
   "metadata": {},
   "source": [
    "##### Bước 1: Import thư viện"
   ]
  },
  {
   "cell_type": "code",
   "execution_count": 81,
   "id": "f6c93e88-2096-49c6-b759-17b90f460591",
   "metadata": {},
   "outputs": [],
   "source": [
    "from sklearn.preprocessing import StandardScaler"
   ]
  },
  {
   "cell_type": "markdown",
   "id": "78f5fdc8-dda7-407c-8136-54db895630f3",
   "metadata": {},
   "source": [
    "##### Bước 2: Chọn features cần chuẩn hóa"
   ]
  },
  {
   "cell_type": "code",
   "execution_count": 84,
   "id": "d93394e0-1f7e-4f9f-b62a-c4c8c77d946b",
   "metadata": {},
   "outputs": [],
   "source": [
    "numerical_features = ['Age', 'Annual Income (k$)', 'Spending Score (1-100)']"
   ]
  },
  {
   "cell_type": "markdown",
   "id": "fb0b321b-25bc-4f34-b375-fcb1c86f3084",
   "metadata": {},
   "source": [
    "##### Bước 3: Khởi tạo và huấn luyện scaler"
   ]
  },
  {
   "cell_type": "code",
   "execution_count": 87,
   "id": "1c136ad2-675b-4a7a-b37e-2b44286cb7e0",
   "metadata": {},
   "outputs": [],
   "source": [
    "scaler = StandardScaler()\n",
    "scaled_data = scaler.fit_transform(df[numerical_features])"
   ]
  },
  {
   "cell_type": "markdown",
   "id": "6156060e-faa1-4384-9e68-ab1d96c89304",
   "metadata": {},
   "source": [
    "##### Bước 4: Gán dữ liệu đã chuẩn hóa vào DataFrame"
   ]
  },
  {
   "cell_type": "code",
   "execution_count": 90,
   "id": "807e9af9-3232-4150-aa91-9edb0401fdb2",
   "metadata": {},
   "outputs": [],
   "source": [
    "df[numerical_features] = scaled_data"
   ]
  },
  {
   "cell_type": "markdown",
   "id": "e432be0f-81ce-4a59-927d-43ba8f1fa13f",
   "metadata": {},
   "source": [
    "##### Bước 5: Lưu scaler để sử dụng sau `"
   ]
  },
  {
   "cell_type": "code",
   "execution_count": 102,
   "id": "3583f0a4-27f5-4740-a146-ae48bf3a5b82",
   "metadata": {},
   "outputs": [
    {
     "data": {
      "text/plain": [
       "['C:/Users/Quang/Customer-Segmentation/models/scaler.pkl']"
      ]
     },
     "execution_count": 102,
     "metadata": {},
     "output_type": "execute_result"
    }
   ],
   "source": [
    "import joblib\n",
    "joblib.dump(scaler, 'C:/Users/Quang/Customer-Segmentation/models/scaler.pkl')  # Lưu scaler vào thư mục models/"
   ]
  },
  {
   "cell_type": "code",
   "execution_count": 104,
   "id": "474c6bfd-e8d5-4ef6-bd1b-30df6c3db121",
   "metadata": {},
   "outputs": [
    {
     "data": {
      "text/html": [
       "<div>\n",
       "<style scoped>\n",
       "    .dataframe tbody tr th:only-of-type {\n",
       "        vertical-align: middle;\n",
       "    }\n",
       "\n",
       "    .dataframe tbody tr th {\n",
       "        vertical-align: top;\n",
       "    }\n",
       "\n",
       "    .dataframe thead th {\n",
       "        text-align: right;\n",
       "    }\n",
       "</style>\n",
       "<table border=\"1\" class=\"dataframe\">\n",
       "  <thead>\n",
       "    <tr style=\"text-align: right;\">\n",
       "      <th></th>\n",
       "      <th>CustomerID</th>\n",
       "      <th>Gender</th>\n",
       "      <th>Age</th>\n",
       "      <th>Annual Income (k$)</th>\n",
       "      <th>Spending Score (1-100)</th>\n",
       "      <th>Age_Group</th>\n",
       "      <th>Gender_Encoded</th>\n",
       "      <th>Spending_Income_Ratio</th>\n",
       "    </tr>\n",
       "  </thead>\n",
       "  <tbody>\n",
       "    <tr>\n",
       "      <th>0</th>\n",
       "      <td>1</td>\n",
       "      <td>Male</td>\n",
       "      <td>-1.424569</td>\n",
       "      <td>-1.738999</td>\n",
       "      <td>-0.434801</td>\n",
       "      <td>Young Adult</td>\n",
       "      <td>0</td>\n",
       "      <td>2.600000</td>\n",
       "    </tr>\n",
       "    <tr>\n",
       "      <th>1</th>\n",
       "      <td>2</td>\n",
       "      <td>Male</td>\n",
       "      <td>-1.281035</td>\n",
       "      <td>-1.738999</td>\n",
       "      <td>1.195704</td>\n",
       "      <td>Young Adult</td>\n",
       "      <td>0</td>\n",
       "      <td>5.400000</td>\n",
       "    </tr>\n",
       "    <tr>\n",
       "      <th>2</th>\n",
       "      <td>3</td>\n",
       "      <td>Female</td>\n",
       "      <td>-1.352802</td>\n",
       "      <td>-1.700830</td>\n",
       "      <td>-1.715913</td>\n",
       "      <td>Young Adult</td>\n",
       "      <td>1</td>\n",
       "      <td>0.375000</td>\n",
       "    </tr>\n",
       "    <tr>\n",
       "      <th>3</th>\n",
       "      <td>4</td>\n",
       "      <td>Female</td>\n",
       "      <td>-1.137502</td>\n",
       "      <td>-1.700830</td>\n",
       "      <td>1.040418</td>\n",
       "      <td>Young Adult</td>\n",
       "      <td>1</td>\n",
       "      <td>4.812500</td>\n",
       "    </tr>\n",
       "    <tr>\n",
       "      <th>4</th>\n",
       "      <td>5</td>\n",
       "      <td>Female</td>\n",
       "      <td>-0.563369</td>\n",
       "      <td>-1.662660</td>\n",
       "      <td>-0.395980</td>\n",
       "      <td>Adult</td>\n",
       "      <td>1</td>\n",
       "      <td>2.352941</td>\n",
       "    </tr>\n",
       "  </tbody>\n",
       "</table>\n",
       "</div>"
      ],
      "text/plain": [
       "   CustomerID  Gender       Age  Annual Income (k$)  Spending Score (1-100)  \\\n",
       "0           1    Male -1.424569           -1.738999               -0.434801   \n",
       "1           2    Male -1.281035           -1.738999                1.195704   \n",
       "2           3  Female -1.352802           -1.700830               -1.715913   \n",
       "3           4  Female -1.137502           -1.700830                1.040418   \n",
       "4           5  Female -0.563369           -1.662660               -0.395980   \n",
       "\n",
       "     Age_Group  Gender_Encoded  Spending_Income_Ratio  \n",
       "0  Young Adult               0               2.600000  \n",
       "1  Young Adult               0               5.400000  \n",
       "2  Young Adult               1               0.375000  \n",
       "3  Young Adult               1               4.812500  \n",
       "4        Adult               1               2.352941  "
      ]
     },
     "execution_count": 104,
     "metadata": {},
     "output_type": "execute_result"
    }
   ],
   "source": [
    "df.head()"
   ]
  },
  {
   "cell_type": "markdown",
   "id": "999be8e7-8a9e-4d4d-b8eb-169aafc6129a",
   "metadata": {},
   "source": [
    "##### Bước 6:Kiểm tra kết quả chuẩn hóa"
   ]
  },
  {
   "cell_type": "code",
   "execution_count": 108,
   "id": "4f956c37-3299-4036-970f-f053a174451b",
   "metadata": {},
   "outputs": [
    {
     "name": "stdout",
     "output_type": "stream",
     "text": [
      "Age                      -1.021405e-16\n",
      "Annual Income (k$)       -2.131628e-16\n",
      "Spending Score (1-100)   -1.465494e-16\n",
      "dtype: float64\n",
      "Age                       1.002509\n",
      "Annual Income (k$)        1.002509\n",
      "Spending Score (1-100)    1.002509\n",
      "dtype: float64\n"
     ]
    },
    {
     "data": {
      "text/plain": [
       "<Axes: xlabel='Annual Income (k$)', ylabel='Count'>"
      ]
     },
     "execution_count": 108,
     "metadata": {},
     "output_type": "execute_result"
    },
    {
     "data": {
      "image/png": "[encoded data removed]",
      "text/plain": [
       "<Figure size 640x480 with 1 Axes>"
      ]
     },
     "metadata": {},
     "output_type": "display_data"
    }
   ],
   "source": [
    "print(df[numerical_features].mean())  # Kết quả mong đợi: ~0\n",
    "print(df[numerical_features].std())   # Kết quả mong đợi: ~1\n",
    "\n",
    "import seaborn as sns\n",
    "sns.histplot(df['Annual Income (k$)'], kde=True)"
   ]
  },
  {
   "cell_type": "code",
   "execution_count": 147,
   "id": "cef5a49a-eb09-48d4-b4ab-7b5467a92460",
   "metadata": {},
   "outputs": [
    {
     "data": {
      "text/html": [
       "<div>\n",
       "<style scoped>\n",
       "    .dataframe tbody tr th:only-of-type {\n",
       "        vertical-align: middle;\n",
       "    }\n",
       "\n",
       "    .dataframe tbody tr th {\n",
       "        vertical-align: top;\n",
       "    }\n",
       "\n",
       "    .dataframe thead th {\n",
       "        text-align: right;\n",
       "    }\n",
       "</style>\n",
       "<table border=\"1\" class=\"dataframe\">\n",
       "  <thead>\n",
       "    <tr style=\"text-align: right;\">\n",
       "      <th></th>\n",
       "      <th>CustomerID</th>\n",
       "      <th>Gender</th>\n",
       "      <th>Age</th>\n",
       "      <th>Annual Income (k$)</th>\n",
       "      <th>Spending Score (1-100)</th>\n",
       "      <th>Age_Group</th>\n",
       "      <th>Gender_Encoded</th>\n",
       "      <th>Spending_Income_Ratio</th>\n",
       "    </tr>\n",
       "  </thead>\n",
       "  <tbody>\n",
       "    <tr>\n",
       "      <th>0</th>\n",
       "      <td>1</td>\n",
       "      <td>Male</td>\n",
       "      <td>19</td>\n",
       "      <td>15.0</td>\n",
       "      <td>39</td>\n",
       "      <td>Young Adult</td>\n",
       "      <td>0</td>\n",
       "      <td>2.600000</td>\n",
       "    </tr>\n",
       "    <tr>\n",
       "      <th>1</th>\n",
       "      <td>2</td>\n",
       "      <td>Male</td>\n",
       "      <td>21</td>\n",
       "      <td>15.0</td>\n",
       "      <td>81</td>\n",
       "      <td>Young Adult</td>\n",
       "      <td>0</td>\n",
       "      <td>5.400000</td>\n",
       "    </tr>\n",
       "    <tr>\n",
       "      <th>2</th>\n",
       "      <td>3</td>\n",
       "      <td>Female</td>\n",
       "      <td>20</td>\n",
       "      <td>16.0</td>\n",
       "      <td>6</td>\n",
       "      <td>Young Adult</td>\n",
       "      <td>1</td>\n",
       "      <td>0.375000</td>\n",
       "    </tr>\n",
       "    <tr>\n",
       "      <th>3</th>\n",
       "      <td>4</td>\n",
       "      <td>Female</td>\n",
       "      <td>23</td>\n",
       "      <td>16.0</td>\n",
       "      <td>77</td>\n",
       "      <td>Young Adult</td>\n",
       "      <td>1</td>\n",
       "      <td>4.812500</td>\n",
       "    </tr>\n",
       "    <tr>\n",
       "      <th>4</th>\n",
       "      <td>5</td>\n",
       "      <td>Female</td>\n",
       "      <td>31</td>\n",
       "      <td>17.0</td>\n",
       "      <td>40</td>\n",
       "      <td>Adult</td>\n",
       "      <td>1</td>\n",
       "      <td>2.352941</td>\n",
       "    </tr>\n",
       "  </tbody>\n",
       "</table>\n",
       "</div>"
      ],
      "text/plain": [
       "   CustomerID  Gender  Age  Annual Income (k$)  Spending Score (1-100)  \\\n",
       "0           1    Male   19                15.0                      39   \n",
       "1           2    Male   21                15.0                      81   \n",
       "2           3  Female   20                16.0                       6   \n",
       "3           4  Female   23                16.0                      77   \n",
       "4           5  Female   31                17.0                      40   \n",
       "\n",
       "     Age_Group  Gender_Encoded  Spending_Income_Ratio  \n",
       "0  Young Adult               0               2.600000  \n",
       "1  Young Adult               0               5.400000  \n",
       "2  Young Adult               1               0.375000  \n",
       "3  Young Adult               1               4.812500  \n",
       "4        Adult               1               2.352941  "
      ]
     },
     "execution_count": 147,
     "metadata": {},
     "output_type": "execute_result"
    }
   ],
   "source": [
    "df.head()"
   ]
  }
 ],
 "metadata": {
  "kernelspec": {
   "display_name": "Python [conda env:base] *",
   "language": "python",
   "name": "conda-base-py"
  },
  "language_info": {
   "codemirror_mode": {
    "name": "ipython",
    "version": 3
   },
   "file_extension": ".py",
   "mimetype": "text/x-python",
   "name": "python",
   "nbconvert_exporter": "python",
   "pygments_lexer": "ipython3",
   "version": "3.12.7"
  }
 },
 "nbformat": 4,
 "nbformat_minor": 5
}
