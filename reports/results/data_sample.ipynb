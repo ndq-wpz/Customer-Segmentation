{
 "cells": [
  {
   "cell_type": "code",
   "execution_count": 5,
   "id": "5fb108dd-310b-498a-acc1-07e39108a857",
   "metadata": {},
   "outputs": [],
   "source": [
    "import pandas as pd"
   ]
  },
  {
   "cell_type": "code",
   "execution_count": 7,
   "id": "ae84cfcd-a46d-4900-a648-c2113886fd43",
   "metadata": {},
   "outputs": [
    {
     "data": {
      "text/html": [
       "<div>\n",
       "<style scoped>\n",
       "    .dataframe tbody tr th:only-of-type {\n",
       "        vertical-align: middle;\n",
       "    }\n",
       "\n",
       "    .dataframe tbody tr th {\n",
       "        vertical-align: top;\n",
       "    }\n",
       "\n",
       "    .dataframe thead th {\n",
       "        text-align: right;\n",
       "    }\n",
       "</style>\n",
       "<table border=\"1\" class=\"dataframe\">\n",
       "  <thead>\n",
       "    <tr style=\"text-align: right;\">\n",
       "      <th></th>\n",
       "      <th>CustomerID</th>\n",
       "      <th>Gender</th>\n",
       "      <th>Age</th>\n",
       "      <th>Annual Income (k$)</th>\n",
       "      <th>Spending Score (1-100)</th>\n",
       "    </tr>\n",
       "  </thead>\n",
       "  <tbody>\n",
       "    <tr>\n",
       "      <th>0</th>\n",
       "      <td>1</td>\n",
       "      <td>Male</td>\n",
       "      <td>19</td>\n",
       "      <td>15</td>\n",
       "      <td>39</td>\n",
       "    </tr>\n",
       "    <tr>\n",
       "      <th>1</th>\n",
       "      <td>2</td>\n",
       "      <td>Male</td>\n",
       "      <td>21</td>\n",
       "      <td>15</td>\n",
       "      <td>81</td>\n",
       "    </tr>\n",
       "    <tr>\n",
       "      <th>2</th>\n",
       "      <td>3</td>\n",
       "      <td>Female</td>\n",
       "      <td>20</td>\n",
       "      <td>16</td>\n",
       "      <td>6</td>\n",
       "    </tr>\n",
       "    <tr>\n",
       "      <th>3</th>\n",
       "      <td>4</td>\n",
       "      <td>Female</td>\n",
       "      <td>23</td>\n",
       "      <td>16</td>\n",
       "      <td>77</td>\n",
       "    </tr>\n",
       "    <tr>\n",
       "      <th>4</th>\n",
       "      <td>5</td>\n",
       "      <td>Female</td>\n",
       "      <td>31</td>\n",
       "      <td>17</td>\n",
       "      <td>40</td>\n",
       "    </tr>\n",
       "  </tbody>\n",
       "</table>\n",
       "</div>"
      ],
      "text/plain": [
       "   CustomerID  Gender  Age  Annual Income (k$)  Spending Score (1-100)\n",
       "0           1    Male   19                  15                      39\n",
       "1           2    Male   21                  15                      81\n",
       "2           3  Female   20                  16                       6\n",
       "3           4  Female   23                  16                      77\n",
       "4           5  Female   31                  17                      40"
      ]
     },
     "execution_count": 7,
     "metadata": {},
     "output_type": "execute_result"
    }
   ],
   "source": [
    "# Load data\n",
    "df = pd.read_csv(\"C:/Users/Quang/Customer-Segmentation/data/raw/Mall_Customers.csv\")\n",
    "\n",
    "# Check 5 dòng đầu\n",
    "df.head()"
   ]
  },
  {
   "cell_type": "code",
   "execution_count": 9,
   "id": "7aa0a033-40ab-479e-9c07-cfbe48ac6832",
   "metadata": {},
   "outputs": [
    {
     "data": {
      "text/plain": [
       "'Shape: (200, 5)'"
      ]
     },
     "execution_count": 9,
     "metadata": {},
     "output_type": "execute_result"
    }
   ],
   "source": [
    "# Check số lượng records và features\n",
    "f\"Shape: {df.shape}\""
   ]
  },
  {
   "cell_type": "code",
   "execution_count": 11,
   "id": "fcdad14d-5925-4a53-8b15-d36a0219ffb0",
   "metadata": {},
   "outputs": [
    {
     "data": {
      "text/plain": [
       "CustomerID                 int64\n",
       "Gender                    object\n",
       "Age                        int64\n",
       "Annual Income (k$)         int64\n",
       "Spending Score (1-100)     int64\n",
       "dtype: object"
      ]
     },
     "execution_count": 11,
     "metadata": {},
     "output_type": "execute_result"
    }
   ],
   "source": [
    "# Check data types\n",
    "df.dtypes"
   ]
  },
  {
   "cell_type": "markdown",
   "id": "e1ee6978-51e5-4810-95bf-21f04bf7171e",
   "metadata": {},
   "source": [
    "### ==> "
   ]
  },
  {
   "cell_type": "code",
   "execution_count": 17,
   "id": "0d9b8373-a62e-4c66-a4f2-3a6f961185d9",
   "metadata": {},
   "outputs": [],
   "source": [
    "# Tổng hợp missing values\n",
    "missing_report = df.isnull().sum().to_frame(name='Missing Values')\n",
    "missing_report['Missing %'] = (missing_report['Missing Values'] / len(df)) * 100\n",
    "\n",
    "# Lưu report\n",
    "missing_report.to_markdown('C:/Users/Quang/Customer-Segmentation/reports/missing_values.md')"
   ]
  },
  {
   "cell_type": "code",
   "execution_count": 21,
   "id": "2cc82d95-fff0-4094-a19d-59e1eecf5113",
   "metadata": {},
   "outputs": [],
   "source": [
    "# Summary stats cho biến số\n",
    "numerical_stats = df[['Age', 'Annual Income (k$)', 'Spending Score (1-100)']].describe().T\n",
    "numerical_stats.to_markdown('C:/Users/Quang/Customer-Segmentation/reports/numerical_stats.md')"
   ]
  },
  {
   "cell_type": "code",
   "execution_count": 39,
   "id": "486f9925-a189-4d94-8578-3e2c89839d17",
   "metadata": {},
   "outputs": [
    {
     "name": "stdout",
     "output_type": "stream",
     "text": [
      "Outliers trong Age: 0\n",
      "Outliers trong Annual Income: 2\n",
      "Outliers trong Spending Core: 0\n"
     ]
    }
   ],
   "source": [
    "# Check outliers bằng IQR\n",
    "Q1 = df['Age'].quantile(0.25)\n",
    "Q3 = df['Age'].quantile(0.75)\n",
    "IQR = Q3 - Q1\n",
    "outliers_age = df[(df['Age'] < (Q1 - 1.5*IQR)) | (df['Age'] > (Q3 + 1.5*IQR))]\n",
    "\n",
    "# Check outliers bằng IQR\n",
    "Q1 = df['Annual Income (k$)'].quantile(0.25)\n",
    "Q3 = df['Annual Income (k$)'].quantile(0.75)\n",
    "IQR = Q3 - Q1\n",
    "outliers_income = df[(df['Annual Income (k$)'] < (Q1 - 1.5*IQR)) | (df['Annual Income (k$)'] > (Q3 + 1.5*IQR))]\n",
    "\n",
    "# Check outliers bằng IQR\n",
    "Q1 = df['Spending Score (1-100)'].quantile(0.25)\n",
    "Q3 = df['Spending Score (1-100)'].quantile(0.75)\n",
    "IQR = Q3 - Q1\n",
    "outliers_spending = df[(df['Spending Score (1-100)'] < (Q1 - 1.5*IQR)) | (df['Spending Score (1-100)'] > (Q3 + 1.5*IQR))]\n",
    "\n",
    "print(f\"Outliers trong Age: {len(outliers_age)}\")\n",
    "print(f\"Outliers trong Annual Income: {len(outliers_income)}\")\n",
    "print(f\"Outliers trong Spending Core: {len(outliers_spending)}\")"
   ]
  },
  {
   "cell_type": "code",
   "execution_count": 41,
   "id": "376dfdc7-8fe0-4f89-8405-a915d9cb69a9",
   "metadata": {},
   "outputs": [],
   "source": [
    "# Gộp tất cả outliers thành một bảng\n",
    "outliers_combined = pd.concat([\n",
    "    outliers_age.assign(Category=\"Age\"),\n",
    "    outliers_income.assign(Category=\"Annual Income\"),\n",
    "    outliers_spending.assign(Category=\"Spending Score\")\n",
    "])\n",
    "\n",
    "# Lưu vào file Markdown\n",
    "outliers_markdown = outliers_combined.to_markdown()\n",
    "with open(\"C:/Users/Quang/Customer-Segmentation/reports/outliers.md\", \"w\", encoding=\"utf-8\") as f:\n",
    "    f.write(outliers_markdown)"
   ]
  },
  {
   "cell_type": "code",
   "execution_count": 47,
   "id": "89ffbc77-cc0d-48d6-91c6-89656b45818f",
   "metadata": {},
   "outputs": [],
   "source": [
    "# Phân bố giới tính\n",
    "gender_distribution = df['Gender'].value_counts(normalize=True) * 100\n",
    "gender_distribution.to_markdown('C:/Users/Quang/Customer-Segmentation/reports/gender_distribution.md')"
   ]
  },
  {
   "cell_type": "code",
   "execution_count": null,
   "id": "f56c4bc2-3f20-4a82-8d95-7f3ee855010b",
   "metadata": {},
   "outputs": [],
   "source": []
  }
 ],
 "metadata": {
  "kernelspec": {
   "display_name": "Python [conda env:base] *",
   "language": "python",
   "name": "conda-base-py"
  },
  "language_info": {
   "codemirror_mode": {
    "name": "ipython",
    "version": 3
   },
   "file_extension": ".py",
   "mimetype": "text/x-python",
   "name": "python",
   "nbconvert_exporter": "python",
   "pygments_lexer": "ipython3",
   "version": "3.12.7"
  }
 },
 "nbformat": 4,
 "nbformat_minor": 5
}
